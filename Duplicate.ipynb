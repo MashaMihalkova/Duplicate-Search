{
  "nbformat": 4,
  "nbformat_minor": 0,
  "metadata": {
    "colab": {
      "name": " Duplicate.ipynb",
      "provenance": [],
      "collapsed_sections": [],
      "mount_file_id": "1RuXN5dajfqRhcoUb_DCkmiMIeI08DRA1",
      "authorship_tag": "ABX9TyO22zKpJQtJk6qfWRi7F0el",
      "include_colab_link": true
    },
    "kernelspec": {
      "name": "python3",
      "display_name": "Python 3"
    },
    "language_info": {
      "name": "python"
    }
  },
  "cells": [
    {
      "cell_type": "markdown",
      "metadata": {
        "id": "view-in-github",
        "colab_type": "text"
      },
      "source": [
        "<a href=\"https://colab.research.google.com/github/MashaMihalkova/Duplicate-Search/blob/main/Duplicate.ipynb\" target=\"_parent\"><img src=\"https://colab.research.google.com/assets/colab-badge.svg\" alt=\"Open In Colab\"/></a>"
      ]
    },
    {
      "cell_type": "markdown",
      "metadata": {
        "id": "YhfD_jc4fMya"
      },
      "source": [
        "Вызов скрипта"
      ]
    },
    {
      "cell_type": "code",
      "metadata": {
        "colab": {
          "base_uri": "https://localhost:8080/"
        },
        "id": "0Ur8Whs6t-wF",
        "outputId": "3135b19b-5ef1-4a9d-d105-4238ce346d92"
      },
      "source": [
        "!python3 '/content/drive/MyDrive/test_dublicate/Duplicate_Search_script.py' -i '/content/drive/MyDrive/test_dublicate/files.txt'"
      ],
      "execution_count": 31,
      "outputs": [
        {
          "output_type": "stream",
          "name": "stdout",
          "text": [
            "Сatalog :  /content/drive/MyDrive/test_dublicate\n",
            "File: /content/drive/MyDrive/test_dublicate/Duplicate_Search_script.py\n",
            "File: /content/drive/MyDrive/test_dublicate/Duplicate_Search.py\n",
            "File: /content/drive/MyDrive/test_dublicate/files.txt\n",
            "File: /content/drive/MyDrive/test_dublicate/dubl1/kaggle_leakege.txt\n",
            "File: /content/drive/MyDrive/test_dublicate/dubl1/2.txt\n",
            "File: /content/drive/MyDrive/test_dublicate/dubl1/3.txt\n",
            "File: /content/drive/MyDrive/test_dublicate/dubl1/1 (1).txt\n",
            "Duplicate found: /content/drive/MyDrive/test_dublicate/dubl1/1.txt and /content/drive/MyDrive/test_dublicate/dubl1/1 (1).txt\n",
            "Duplicate found: /content/drive/MyDrive/test_dublicate/dubl2/kaggle_leakege.txt and /content/drive/MyDrive/test_dublicate/dubl1/kaggle_leakege.txt\n",
            "File: /content/drive/MyDrive/test_dublicate/dubl3/3.txt\n",
            "Сatalog :  /content/drive/MyDrive/test_dublicate/dubl1\n",
            "Duplicate found: /content/drive/MyDrive/test_dublicate/dubl1/kaggle_leakege.txt and /content/drive/MyDrive/test_dublicate/dubl1/kaggle_leakege.txt\n",
            "Duplicate found: /content/drive/MyDrive/test_dublicate/dubl1/2.txt and /content/drive/MyDrive/test_dublicate/dubl1/2.txt\n",
            "Duplicate found: /content/drive/MyDrive/test_dublicate/dubl1/3.txt and /content/drive/MyDrive/test_dublicate/dubl1/3.txt\n",
            "Duplicate found: /content/drive/MyDrive/test_dublicate/dubl1/1 (1).txt and /content/drive/MyDrive/test_dublicate/dubl1/1 (1).txt\n",
            "Duplicate found: /content/drive/MyDrive/test_dublicate/dubl1/1.txt and /content/drive/MyDrive/test_dublicate/dubl1/1 (1).txt\n"
          ]
        }
      ]
    },
    {
      "cell_type": "markdown",
      "metadata": {
        "id": "FIqg0YXtfKQ3"
      },
      "source": [
        "код скрипта"
      ]
    },
    {
      "cell_type": "code",
      "metadata": {
        "colab": {
          "base_uri": "https://localhost:8080/",
          "height": 195
        },
        "id": "W_YFSEUie4Yo",
        "outputId": "9bf503d6-06f0-4062-b41a-050d5a466278"
      },
      "source": [
        "import sys\n",
        "import os\n",
        "import hashlib\n",
        "import optparse\n",
        "\n",
        "def main():\n",
        "  def chunk_reader(fobj, chunk_size=1024):\n",
        "      \n",
        "      while True:\n",
        "          chunk = fobj.read(chunk_size)\n",
        "          if not chunk:\n",
        "              return\n",
        "          yield chunk\n",
        "\n",
        "  def check_for_duplicates(paths, hashes, hash=hashlib.sha1):\n",
        "         \n",
        "          for dirpath, dirnames, filenames in os.walk(paths):\n",
        "                for filename in filenames:\n",
        "                   \n",
        "                    full_path = os.path.join(dirpath, filename)\n",
        "                    hashobj = hash()\n",
        "                    for chunk in chunk_reader(open(full_path, 'rb')):\n",
        "                        hashobj.update(chunk)\n",
        "                    file_id = (hashobj.digest(), os.path.getsize(full_path))\n",
        "                    duplicate = hashes.get(file_id, None)\n",
        "                    if duplicate:\n",
        "                        \n",
        "                        print (\"Duplicate found: %s and %s\" % (full_path, duplicate))\n",
        "                    else:\n",
        "                        print (\"File: %s\" % (full_path))\n",
        "                        hashes[file_id] = full_path\n",
        "          return hashes\n",
        "\n",
        "#---------------------------------------------------------------------------\n",
        "  parser = optparse.OptionParser()\n",
        "\n",
        "  parser.add_option('-i', '--input_dir', type=str,\n",
        "        help=\"directory with files\", default=\"./test_dir/\")\n",
        "\n",
        "  options, args = parser.parse_args()     \n",
        "\n",
        "  if sys.argv[1:]:\n",
        "    path=sys.argv[1:]\n",
        "    with open(path[1]) as file:\n",
        "        st = file.read().splitlines()\n",
        "    hashes={}\n",
        "    for catalog in st:\n",
        "            print(\"Сatalog : \",catalog)\n",
        "            hashes=check_for_duplicates(catalog,hashes)\n",
        "   \n",
        "  else:\n",
        "      print(\"Please pass the paths to check as parameters to the script\")\n",
        "\n",
        "if __name__ == \"__main__\":\n",
        "  main()\n",
        "  \n"
      ],
      "execution_count": null,
      "outputs": [
        {
          "output_type": "stream",
          "name": "stderr",
          "text": [
            "Usage: ipykernel_launcher.py [options]\n",
            "\n",
            "ipykernel_launcher.py: error: no such option: -f\n"
          ]
        },
        {
          "output_type": "error",
          "ename": "SystemExit",
          "evalue": "ignored",
          "traceback": [
            "An exception has occurred, use %tb to see the full traceback.\n",
            "\u001b[0;31mSystemExit\u001b[0m\u001b[0;31m:\u001b[0m 2\n"
          ]
        },
        {
          "output_type": "stream",
          "name": "stderr",
          "text": [
            "/usr/local/lib/python3.7/dist-packages/IPython/core/interactiveshell.py:2890: UserWarning: To exit: use 'exit', 'quit', or Ctrl-D.\n",
            "  warn(\"To exit: use 'exit', 'quit', or Ctrl-D.\", stacklevel=1)\n"
          ]
        }
      ]
    }
  ]
}